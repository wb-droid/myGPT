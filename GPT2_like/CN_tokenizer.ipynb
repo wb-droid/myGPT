{
 "cells": [
  {
   "cell_type": "code",
   "execution_count": null,
   "id": "4a8fae73-7731-47c9-8aba-cf51d0f5dcec",
   "metadata": {},
   "outputs": [],
   "source": [
    "# References:\n",
    "# Data from:\n",
    "# https://github.com/Werneror/Poetry.git"
   ]
  },
  {
   "cell_type": "code",
   "execution_count": 60,
   "id": "28d50793-30c3-4d9d-bb4a-fd2590c70b9f",
   "metadata": {},
   "outputs": [],
   "source": [
    "!rm Poetry/ -rf"
   ]
  },
  {
   "cell_type": "code",
   "execution_count": 1,
   "id": "0da0c1da-c121-4ffb-9afd-57bfad5ad457",
   "metadata": {},
   "outputs": [
    {
     "name": "stdout",
     "output_type": "stream",
     "text": [
      "Cloning into 'Poetry'...\n",
      "remote: Enumerating objects: 152, done.\u001b[K\n",
      "remote: Counting objects: 100% (13/13), done.\u001b[K\n",
      "remote: Compressing objects: 100% (9/9), done.\u001b[K\n",
      "remote: Total 152 (delta 4), reused 9 (delta 2), pack-reused 139\u001b[K\n",
      "Receiving objects: 100% (152/152), 123.55 MiB | 10.95 MiB/s, done.\n",
      "Resolving deltas: 100% (84/84), done.\n",
      "Updating files: 100% (39/39), done.\n"
     ]
    }
   ],
   "source": [
    "!git clone https://github.com/Werneror/Poetry.git"
   ]
  },
  {
   "cell_type": "code",
   "execution_count": 28,
   "id": "b39c5c9f-be22-461a-b298-4d37a4118713",
   "metadata": {},
   "outputs": [],
   "source": [
    "import pandas as pd"
   ]
  },
  {
   "cell_type": "code",
   "execution_count": 29,
   "id": "0c307bb8-1c5a-4009-bcc7-e90d5607f05f",
   "metadata": {},
   "outputs": [
    {
     "name": "stdout",
     "output_type": "stream",
     "text": [
      "\u001b[0m\u001b[01;32mLICENSE\u001b[0m*       \u001b[01;32m宋_1.csv\u001b[0m*      \u001b[01;32m明_4.csv\u001b[0m*          \u001b[01;32m近现代.csv\u001b[0m*\n",
      "\u001b[01;32mREADME.md\u001b[0m*     \u001b[01;32m宋_2.csv\u001b[0m*      \u001b[01;32m明末清初.csv\u001b[0m*      \u001b[01;32m近现代末当代初.csv\u001b[0m*\n",
      "\u001b[01;32mcipai_2.txt\u001b[0m*   \u001b[01;32m宋_3.csv\u001b[0m*      \u001b[01;32m民国末当代初.csv\u001b[0m*  \u001b[01;32m金.csv\u001b[0m*\n",
      "\u001b[34;42mscripts\u001b[0m/       \u001b[01;32m宋_4.csv\u001b[0m*      \u001b[01;32m汉.csv\u001b[0m*            \u001b[01;32m金末元初.csv\u001b[0m*\n",
      "\u001b[01;32m元.csv\u001b[0m*        \u001b[01;32m宋末元初.csv\u001b[0m*  \u001b[01;32m清_1.csv\u001b[0m*          \u001b[01;32m隋.csv\u001b[0m*\n",
      "\u001b[01;32m元末明初.csv\u001b[0m*  \u001b[01;32m宋末金初.csv\u001b[0m*  \u001b[01;32m清_2.csv\u001b[0m*          \u001b[01;32m隋末唐初.csv\u001b[0m*\n",
      "\u001b[01;32m先秦.csv\u001b[0m*      \u001b[01;32m当代.csv\u001b[0m*      \u001b[01;32m清末民国初.csv\u001b[0m*    \u001b[01;32m魏晋.csv\u001b[0m*\n",
      "\u001b[01;32m南北朝.csv\u001b[0m*    \u001b[01;32m明_1.csv\u001b[0m*      \u001b[01;32m清末近现代初.csv\u001b[0m*  \u001b[01;32m魏晋末南北朝初.csv\u001b[0m*\n",
      "\u001b[01;32m唐.csv\u001b[0m*        \u001b[01;32m明_2.csv\u001b[0m*      \u001b[01;32m秦.csv\u001b[0m*\n",
      "\u001b[01;32m唐末宋初.csv\u001b[0m*  \u001b[01;32m明_3.csv\u001b[0m*      \u001b[01;32m辽.csv\u001b[0m*\n"
     ]
    }
   ],
   "source": [
    "data_dir = \"./Poetry/\"\n",
    "%ls $data_dir"
   ]
  },
  {
   "cell_type": "code",
   "execution_count": 30,
   "id": "b56ddae0-f056-4acc-b43d-6378cc18e48c",
   "metadata": {},
   "outputs": [
    {
     "name": "stdout",
     "output_type": "stream",
     "text": [
      "\u001b[0m\u001b[01;32m./Poetry/唐.csv\u001b[0m*\n"
     ]
    }
   ],
   "source": [
    "data_fn = data_dir + \"唐.csv\"\n",
    "%ls $data_fn"
   ]
  },
  {
   "cell_type": "code",
   "execution_count": 31,
   "id": "34236f0b-ced9-4b49-bfec-a1661ade86c9",
   "metadata": {},
   "outputs": [
    {
     "data": {
      "text/html": [
       "<div>\n",
       "<style scoped>\n",
       "    .dataframe tbody tr th:only-of-type {\n",
       "        vertical-align: middle;\n",
       "    }\n",
       "\n",
       "    .dataframe tbody tr th {\n",
       "        vertical-align: top;\n",
       "    }\n",
       "\n",
       "    .dataframe thead th {\n",
       "        text-align: right;\n",
       "    }\n",
       "</style>\n",
       "<table border=\"1\" class=\"dataframe\">\n",
       "  <thead>\n",
       "    <tr style=\"text-align: right;\">\n",
       "      <th></th>\n",
       "      <th>题目</th>\n",
       "      <th>朝代</th>\n",
       "      <th>作者</th>\n",
       "      <th>内容</th>\n",
       "    </tr>\n",
       "  </thead>\n",
       "  <tbody>\n",
       "    <tr>\n",
       "      <th>0</th>\n",
       "      <td>忆秦娥</td>\n",
       "      <td>唐</td>\n",
       "      <td>冯延巳</td>\n",
       "      <td>风淅淅。夜雨连云黑。滴滴。窗外芭蕉灯下客。除非魂梦到乡国。免被关山隔。忆忆。一句枕前争忘得。</td>\n",
       "    </tr>\n",
       "    <tr>\n",
       "      <th>1</th>\n",
       "      <td>送兄</td>\n",
       "      <td>唐</td>\n",
       "      <td>七岁女子</td>\n",
       "      <td>别路云初起，离亭叶正飞。所嗟人异雁，不作一行归。</td>\n",
       "    </tr>\n",
       "    <tr>\n",
       "      <th>2</th>\n",
       "      <td>再赠</td>\n",
       "      <td>唐</td>\n",
       "      <td>上元夫人</td>\n",
       "      <td>弄玉有夫皆得道，刘纲兼室尽登仙。君能仔细窥朝露，须逐云车拜洞天。</td>\n",
       "    </tr>\n",
       "    <tr>\n",
       "      <th>3</th>\n",
       "      <td>留别</td>\n",
       "      <td>唐</td>\n",
       "      <td>上元夫人</td>\n",
       "      <td>萧郎不顾凤楼人，云涩回车泪脸新。愁想蓬瀛归去路，难窥旧苑碧桃春。</td>\n",
       "    </tr>\n",
       "    <tr>\n",
       "      <th>4</th>\n",
       "      <td>赠封陟</td>\n",
       "      <td>唐</td>\n",
       "      <td>上元夫人</td>\n",
       "      <td>谪居蓬岛别瑶池，春媚烟花有所思。为爱君心能洁白，愿操箕帚奉屏帏。</td>\n",
       "    </tr>\n",
       "  </tbody>\n",
       "</table>\n",
       "</div>"
      ],
      "text/plain": [
       "    题目 朝代    作者                                              内容\n",
       "0  忆秦娥  唐   冯延巳  风淅淅。夜雨连云黑。滴滴。窗外芭蕉灯下客。除非魂梦到乡国。免被关山隔。忆忆。一句枕前争忘得。\n",
       "1   送兄  唐  七岁女子                        别路云初起，离亭叶正飞。所嗟人异雁，不作一行归。\n",
       "2   再赠  唐  上元夫人                弄玉有夫皆得道，刘纲兼室尽登仙。君能仔细窥朝露，须逐云车拜洞天。\n",
       "3   留别  唐  上元夫人                萧郎不顾凤楼人，云涩回车泪脸新。愁想蓬瀛归去路，难窥旧苑碧桃春。\n",
       "4  赠封陟  唐  上元夫人                谪居蓬岛别瑶池，春媚烟花有所思。为爱君心能洁白，愿操箕帚奉屏帏。"
      ]
     },
     "execution_count": 31,
     "metadata": {},
     "output_type": "execute_result"
    }
   ],
   "source": [
    "df = pd.read_csv(data_fn)\n",
    "df.head()"
   ]
  },
  {
   "cell_type": "code",
   "execution_count": 32,
   "id": "6c3702d0-1a58-41dc-b727-f56509b10787",
   "metadata": {},
   "outputs": [],
   "source": [
    "batch_size = 64 # B, batch size\n",
    "block_size = 48 # T, context len for poem is shorter, to set to 48\n",
    "#vocab_size = len(t2i.keys())\n",
    "nn_emb_size = 64 # nn_emb\n",
    "n_head = 16\n",
    "n_layers = 8\n",
    "\n",
    "device = \"cuda\""
   ]
  },
  {
   "cell_type": "code",
   "execution_count": 33,
   "id": "e331fc2c-6bb5-4f3a-a531-08984e6eea51",
   "metadata": {},
   "outputs": [],
   "source": [
    "# drop invalid char \"{\", '□', '《'\n",
    "df = df[df['内容'].str.contains(\"{\") == False]\n",
    "df = df[df['内容'].str.contains('□') == False]\n",
    "df = df[df['内容'].str.contains('《') == False]\n",
    "\n",
    "# drop context len > block_size\n",
    "#df = df[df['内容'].str.len()<=block_size]"
   ]
  },
  {
   "cell_type": "code",
   "execution_count": 34,
   "id": "5833f23f-b6cf-4d27-94ae-66b0ac1aaeae",
   "metadata": {},
   "outputs": [],
   "source": [
    "rare_chars = [\n",
    "'㒿',\n",
    " '㗫',\n",
    " '㗻',\n",
    " '㘭',\n",
    " '㟅',\n",
    " '㟍',\n",
    " '㠔',\n",
    " '㩳',\n",
    " '㪍',\n",
    " '㪷',\n",
    " '㬠',\n",
    " '㭊',\n",
    " '㴩',\n",
    " '㵳',\n",
    " '㶁',\n",
    " '㸌',\n",
    " '㸙',\n",
    " '㸦',\n",
    " '㹀',\n",
    " '㹞',\n",
    " '㾕',\n",
    " '䆉',\n",
    " '䆗',\n",
    " '䋏',\n",
    " '䍥',\n",
    " '䍦',\n",
    " '䍲',\n",
    " '䍽',\n",
    " '䏑',\n",
    " '䏶',\n",
    " '䐑',\n",
    " '䑳',\n",
    " '䒠',\n",
    " '䔩',\n",
    " '䔫',\n",
    " '䖘',\n",
    " '䖟',\n",
    " '䗈',\n",
    " '䗫',\n",
    " '䙰',\n",
    " '䛏',\n",
    " '䜝',\n",
    " '䨴',\n",
    " '䩋',\n",
    " '䪻',\n",
    " '䫻',\n",
    " '䭀',\n",
    " '䭃',\n",
    " '䭔',\n",
    " '䯀',\n",
    " '䱐',\n",
    " '䲺',\n",
    " '䳒',\n",
    " '䴏',\n",
    " '䴥',\n",
    " '䴵',\n",
    " '䴺',\n",
    " '䶎']\n",
    "\n",
    "for c in rare_chars:\n",
    "    df = df[df['内容'].str.contains(c) == False]"
   ]
  },
  {
   "cell_type": "code",
   "execution_count": 35,
   "id": "b590fbff-c516-4700-9d0d-6c516f2c0958",
   "metadata": {},
   "outputs": [
    {
     "data": {
      "text/html": [
       "<div>\n",
       "<style scoped>\n",
       "    .dataframe tbody tr th:only-of-type {\n",
       "        vertical-align: middle;\n",
       "    }\n",
       "\n",
       "    .dataframe tbody tr th {\n",
       "        vertical-align: top;\n",
       "    }\n",
       "\n",
       "    .dataframe thead th {\n",
       "        text-align: right;\n",
       "    }\n",
       "</style>\n",
       "<table border=\"1\" class=\"dataframe\">\n",
       "  <thead>\n",
       "    <tr style=\"text-align: right;\">\n",
       "      <th></th>\n",
       "      <th>题目</th>\n",
       "      <th>朝代</th>\n",
       "      <th>作者</th>\n",
       "      <th>内容</th>\n",
       "    </tr>\n",
       "  </thead>\n",
       "  <tbody>\n",
       "  </tbody>\n",
       "</table>\n",
       "</div>"
      ],
      "text/plain": [
       "Empty DataFrame\n",
       "Columns: [题目, 朝代, 作者, 内容]\n",
       "Index: []"
      ]
     },
     "execution_count": 35,
     "metadata": {},
     "output_type": "execute_result"
    }
   ],
   "source": [
    "df[df['内容'].str.contains(c) == True]"
   ]
  },
  {
   "cell_type": "code",
   "execution_count": 36,
   "id": "fa786b60-e839-4e15-93e5-c73533f7f435",
   "metadata": {},
   "outputs": [
    {
     "data": {
      "text/plain": [
       "['风淅淅。夜雨连云黑。滴滴。窗外芭蕉灯下客。除非魂梦到乡国。免被关山隔。忆忆。一句枕前争忘得。',\n",
       " '别路云初起，离亭叶正飞。所嗟人异雁，不作一行归。',\n",
       " '弄玉有夫皆得道，刘纲兼室尽登仙。君能仔细窥朝露，须逐云车拜洞天。',\n",
       " '萧郎不顾凤楼人，云涩回车泪脸新。愁想蓬瀛归去路，难窥旧苑碧桃春。',\n",
       " '谪居蓬岛别瑶池，春媚烟花有所思。为爱君心能洁白，愿操箕帚奉屏帏。']"
      ]
     },
     "execution_count": 36,
     "metadata": {},
     "output_type": "execute_result"
    }
   ],
   "source": [
    "all_data = df['内容'].tolist()\n",
    "all_data[:5]"
   ]
  },
  {
   "cell_type": "code",
   "execution_count": 37,
   "id": "f48446bf-033d-421e-bcf1-94c526bc823f",
   "metadata": {},
   "outputs": [
    {
     "data": {
      "text/plain": [
       "'风淅淅。夜雨连云黑。滴滴。窗外芭蕉灯下客。除非魂梦到乡国。免被关山隔。忆忆。一句枕前争忘得。别路云初'"
      ]
     },
     "execution_count": 37,
     "metadata": {},
     "output_type": "execute_result"
    }
   ],
   "source": [
    "data = \"\".join(all_data)\n",
    "data[:50]"
   ]
  },
  {
   "cell_type": "code",
   "execution_count": 38,
   "id": "b2f74063-987d-467e-bf45-98656d50a091",
   "metadata": {},
   "outputs": [
    {
     "ename": "ValueError",
     "evalue": "substring not found",
     "output_type": "error",
     "traceback": [
      "\u001b[0;31m---------------------------------------------------------------------------\u001b[0m",
      "\u001b[0;31mValueError\u001b[0m                                Traceback (most recent call last)",
      "Cell \u001b[0;32mIn[38], line 1\u001b[0m\n\u001b[0;32m----> 1\u001b[0m \u001b[43mdata\u001b[49m\u001b[38;5;241;43m.\u001b[39;49m\u001b[43mindex\u001b[49m\u001b[43m(\u001b[49m\u001b[38;5;124;43m\"\u001b[39;49m\u001b[38;5;124;43m$\u001b[39;49m\u001b[38;5;124;43m\"\u001b[39;49m\u001b[43m)\u001b[49m\n",
      "\u001b[0;31mValueError\u001b[0m: substring not found"
     ]
    }
   ],
   "source": [
    "data.index(\"$\")"
   ]
  },
  {
   "cell_type": "code",
   "execution_count": 39,
   "id": "447583bb-a88c-412e-abfc-58dc173e17c7",
   "metadata": {},
   "outputs": [],
   "source": [
    "vocab = sorted(list(set(data)))\n",
    "# add padding\n",
    "vocab = [\"$\"] + vocab"
   ]
  },
  {
   "cell_type": "code",
   "execution_count": 40,
   "id": "ce5df5e0-ecfe-4ba1-b318-c176316a6559",
   "metadata": {},
   "outputs": [
    {
     "ename": "ValueError",
     "evalue": "substring not found",
     "output_type": "error",
     "traceback": [
      "\u001b[0;31m---------------------------------------------------------------------------\u001b[0m",
      "\u001b[0;31mValueError\u001b[0m                                Traceback (most recent call last)",
      "Cell \u001b[0;32mIn[40], line 1\u001b[0m\n\u001b[0;32m----> 1\u001b[0m \u001b[43mdata\u001b[49m\u001b[38;5;241;43m.\u001b[39;49m\u001b[43mindex\u001b[49m\u001b[43m(\u001b[49m\u001b[38;5;124;43m'\u001b[39;49m\u001b[38;5;124;43m《\u001b[39;49m\u001b[38;5;124;43m'\u001b[39;49m\u001b[43m)\u001b[49m\n",
      "\u001b[0;31mValueError\u001b[0m: substring not found"
     ]
    }
   ],
   "source": [
    "data.index('《')"
   ]
  },
  {
   "cell_type": "code",
   "execution_count": 41,
   "id": "405c08a7-10f6-47e6-9157-8ff27aa2f37d",
   "metadata": {},
   "outputs": [
    {
     "data": {
      "text/plain": [
       "'馆晴。晚来因废卷，行'"
      ]
     },
     "execution_count": 41,
     "metadata": {},
     "output_type": "execute_result"
    }
   ],
   "source": [
    "data[72306:72316]"
   ]
  },
  {
   "cell_type": "code",
   "execution_count": 42,
   "id": "5b87cdaf-16d9-44b9-b923-6089948936ba",
   "metadata": {},
   "outputs": [
    {
     "data": {
      "text/plain": [
       "['$',\n",
       " '?',\n",
       " '◇',\n",
       " '、',\n",
       " '。',\n",
       " '「',\n",
       " '」',\n",
       " '㑻',\n",
       " '㓤',\n",
       " '㓨',\n",
       " '㔩',\n",
       " '㕙',\n",
       " '㕭',\n",
       " '㖇',\n",
       " '㖷',\n",
       " '㗀',\n",
       " '㗧',\n",
       " '㘈',\n",
       " '㙞',\n",
       " '㙧',\n",
       " '㙻',\n",
       " '㜕',\n",
       " '㟏',\n",
       " '㟼',\n",
       " '㠁',\n",
       " '㠢',\n",
       " '㠥',\n",
       " '㡊',\n",
       " '㤝',\n",
       " '㤞',\n",
       " '㥄',\n",
       " '㦎',\n",
       " '㦨',\n",
       " '㦬',\n",
       " '㧞',\n",
       " '㨖',\n",
       " '㨝',\n",
       " '㩧',\n",
       " '㩻',\n",
       " '㪇',\n",
       " '㯕',\n",
       " '㰂',\n",
       " '㰕',\n",
       " '㰤',\n",
       " '㰹',\n",
       " '㱔',\n",
       " '㱥',\n",
       " '㲉',\n",
       " '㲚',\n",
       " '㲪',\n",
       " '㴲',\n",
       " '㵝',\n",
       " '㹠',\n",
       " '㺄',\n",
       " '㺑',\n",
       " '㺗',\n",
       " '㺠',\n",
       " '㺦',\n",
       " '㻞',\n",
       " '㼐',\n",
       " '㼚',\n",
       " '㽅',\n",
       " '㽬',\n",
       " '㾌',\n",
       " '㾓',\n",
       " '㿉',\n",
       " '䀣',\n",
       " '䀨',\n",
       " '䁠',\n",
       " '䂍',\n",
       " '䂓',\n",
       " '䃂',\n",
       " '䃔',\n",
       " '䃧',\n",
       " '䃸',\n",
       " '䅎',\n",
       " '䆕',\n",
       " '䆛',\n",
       " '䆷',\n",
       " '䇹',\n",
       " '䈉',\n",
       " '䈴',\n",
       " '䉛',\n",
       " '䉦',\n",
       " '䌨',\n",
       " '䌰',\n",
       " '䍡',\n",
       " '䑔',\n",
       " '䔿',\n",
       " '䕓',\n",
       " '䕭',\n",
       " '䕹',\n",
       " '䗁',\n",
       " '䗱',\n",
       " '䘧',\n",
       " '䘨',\n",
       " '䙀',\n",
       " '䛠',\n",
       " '䜕',\n",
       " '䝟',\n",
       " '䞋',\n",
       " '䟃',\n",
       " '䟐',\n",
       " '䢇',\n",
       " '䤨',\n",
       " '䥓',\n",
       " '䥫',\n",
       " '䦪',\n",
       " '䦰',\n",
       " '䦱',\n",
       " '䨟',\n",
       " '䨥',\n",
       " '䪗',\n",
       " '䪜',\n",
       " '䪥',\n",
       " '䫇',\n",
       " '䫜',\n",
       " '䬓',\n",
       " '䬔',\n",
       " '䬘',\n",
       " '䬴',\n",
       " '䮂',\n",
       " '䮧',\n",
       " '䯔',\n",
       " '䯗',\n",
       " '䯱',\n",
       " '䰀',\n",
       " '䱙',\n",
       " '䱜',\n",
       " '䱬',\n",
       " '䴊',\n",
       " '䶉',\n",
       " '一',\n",
       " '丁',\n",
       " '七',\n",
       " '万',\n",
       " '丈',\n",
       " '三',\n",
       " '上',\n",
       " '下',\n",
       " '不',\n",
       " '与',\n",
       " '丐',\n",
       " '丑',\n",
       " '专',\n",
       " '且',\n",
       " '丕',\n",
       " '世',\n",
       " '丘',\n",
       " '丙',\n",
       " '业',\n",
       " '丛',\n",
       " '东',\n",
       " '丝',\n",
       " '丞',\n",
       " '两',\n",
       " '严',\n",
       " '丧',\n",
       " '个',\n",
       " '丫',\n",
       " '中',\n",
       " '丰',\n",
       " '丱',\n",
       " '串',\n",
       " '丳',\n",
       " '临',\n",
       " '丸',\n",
       " '丹',\n",
       " '为',\n",
       " '主',\n",
       " '丽',\n",
       " '举',\n",
       " '乂',\n",
       " '乃',\n",
       " '久',\n",
       " '么',\n",
       " '义',\n",
       " '之',\n",
       " '乌',\n",
       " '乍',\n",
       " '乎',\n",
       " '乏',\n",
       " '乐',\n",
       " '乔',\n",
       " '乖',\n",
       " '乘',\n",
       " '乙',\n",
       " '九',\n",
       " '乞',\n",
       " '也',\n",
       " '习',\n",
       " '乡',\n",
       " '书',\n",
       " '买',\n",
       " '乱',\n",
       " '乳',\n",
       " '乾',\n",
       " '了',\n",
       " '予',\n",
       " '争',\n",
       " '事',\n",
       " '二',\n",
       " '于',\n",
       " '亏',\n",
       " '云',\n",
       " '互',\n",
       " '五',\n",
       " '井',\n",
       " '亘',\n",
       " '亚',\n",
       " '些',\n",
       " '亟',\n",
       " '亡',\n",
       " '亢',\n",
       " '交',\n",
       " '亥',\n",
       " '亦',\n",
       " '产',\n",
       " '亨',\n",
       " '亩',\n",
       " '享',\n",
       " '京',\n",
       " '亭',\n",
       " '亮',\n",
       " '亲',\n",
       " '亳',\n",
       " '亵',\n",
       " '亶',\n",
       " '亸',\n",
       " '亹',\n",
       " '人',\n",
       " '亿',\n",
       " '什',\n",
       " '仁',\n",
       " '仄',\n",
       " '仅',\n",
       " '仆',\n",
       " '仇',\n",
       " '今',\n",
       " '介',\n",
       " '仍',\n",
       " '从',\n",
       " '仑',\n",
       " '仓',\n",
       " '仔',\n",
       " '仕',\n",
       " '他',\n",
       " '仗',\n",
       " '付',\n",
       " '仙',\n",
       " '仝',\n",
       " '仞',\n",
       " '仡',\n",
       " '代',\n",
       " '令',\n",
       " '以',\n",
       " '仪',\n",
       " '仰',\n",
       " '仲',\n",
       " '仳',\n",
       " '价',\n",
       " '任',\n",
       " '仿',\n",
       " '企',\n",
       " '伃',\n",
       " '伉',\n",
       " '伊',\n",
       " '伋',\n",
       " '伍',\n",
       " '伎',\n",
       " '伏',\n",
       " '伐',\n",
       " '休',\n",
       " '众',\n",
       " '优',\n",
       " '会',\n",
       " '伛',\n",
       " '伞',\n",
       " '伟',\n",
       " '传',\n",
       " '伣',\n",
       " '伤',\n",
       " '伥',\n",
       " '伦',\n",
       " '伧',\n",
       " '伪',\n",
       " '伫',\n",
       " '伯',\n",
       " '估',\n",
       " '伴',\n",
       " '伶',\n",
       " '伸',\n",
       " '伺',\n",
       " '似',\n",
       " '伽',\n",
       " '伾',\n",
       " '佁',\n",
       " '佅',\n",
       " '但',\n",
       " '位',\n",
       " '低',\n",
       " '住',\n",
       " '佐',\n",
       " '佑',\n",
       " '体',\n",
       " '何',\n",
       " '佗',\n",
       " '余',\n",
       " '佚',\n",
       " '佛',\n",
       " '作',\n",
       " '佝',\n",
       " '佞',\n",
       " '你',\n",
       " '佣',\n",
       " '佥',\n",
       " '佩',\n",
       " '佪',\n",
       " '佯',\n",
       " '佳',\n",
       " '佶',\n",
       " '佺',\n",
       " '佼',\n",
       " '佽',\n",
       " '佾',\n",
       " '使',\n",
       " '侁',\n",
       " '侃',\n",
       " '侄',\n",
       " '侈',\n",
       " '例',\n",
       " '侍',\n",
       " '侏',\n",
       " '侑',\n",
       " '侔',\n",
       " '侗',\n",
       " '侘',\n",
       " '供',\n",
       " '依',\n",
       " '侠',\n",
       " '侣',\n",
       " '侥',\n",
       " '侦',\n",
       " '侧',\n",
       " '侨',\n",
       " '侪',\n",
       " '侬',\n",
       " '侮',\n",
       " '侯',\n",
       " '侲',\n",
       " '侵',\n",
       " '侹',\n",
       " '便',\n",
       " '俀',\n",
       " '促',\n",
       " '俄',\n",
       " '俊',\n",
       " '俋',\n",
       " '俎',\n",
       " '俏',\n",
       " '俗',\n",
       " '俘',\n",
       " '俙',\n",
       " '俚',\n",
       " '俛',\n",
       " '俜',\n",
       " '保',\n",
       " '俞',\n",
       " '俟',\n",
       " '信',\n",
       " '俣',\n",
       " '俦',\n",
       " '俨',\n",
       " '俩',\n",
       " '俪',\n",
       " '俭',\n",
       " '修',\n",
       " '俯',\n",
       " '俱',\n",
       " '俳',\n",
       " '俶',\n",
       " '俸',\n",
       " '俾',\n",
       " '倅',\n",
       " '倍',\n",
       " '倏',\n",
       " '倒',\n",
       " '倔',\n",
       " '倖',\n",
       " '倘',\n",
       " '候',\n",
       " '倚',\n",
       " '倜',\n",
       " '借',\n",
       " '倡',\n",
       " '倢',\n",
       " '倥',\n",
       " '倦',\n",
       " '倨',\n",
       " '倩',\n",
       " '倪',\n",
       " '倬',\n",
       " '倭',\n",
       " '倰',\n",
       " '债',\n",
       " '值',\n",
       " '倾',\n",
       " '偃',\n",
       " '假',\n",
       " '偈',\n",
       " '偎',\n",
       " '偏',\n",
       " '偓',\n",
       " '偕',\n",
       " '做',\n",
       " '停',\n",
       " '健',\n",
       " '偪',\n",
       " '偬',\n",
       " '偲',\n",
       " '偶',\n",
       " '偷',\n",
       " '偻',\n",
       " '偾',\n",
       " '偿',\n",
       " '傀',\n",
       " '傅',\n",
       " '傈',\n",
       " '傍',\n",
       " '傞',\n",
       " '傥',\n",
       " '傧',\n",
       " '储',\n",
       " '傩',\n",
       " '傫',\n",
       " '催',\n",
       " '傲',\n",
       " '傺',\n",
       " '僁',\n",
       " '僇',\n",
       " '僎',\n",
       " '像',\n",
       " '僖',\n",
       " '僚',\n",
       " '僛',\n",
       " '僜',\n",
       " '僝',\n",
       " '僦',\n",
       " '僧',\n",
       " '僩',\n",
       " '僬',\n",
       " '僭',\n",
       " '僮',\n",
       " '僰',\n",
       " '僵',\n",
       " '僶',\n",
       " '僸',\n",
       " '僻',\n",
       " '僾',\n",
       " '儆',\n",
       " '儋',\n",
       " '儑',\n",
       " '儒',\n",
       " '儗',\n",
       " '儚',\n",
       " '儜',\n",
       " '儡',\n",
       " '儳',\n",
       " '儿',\n",
       " '兀',\n",
       " '允',\n",
       " '元',\n",
       " '兄',\n",
       " '充',\n",
       " '兆',\n",
       " '先',\n",
       " '光',\n",
       " '克',\n",
       " '免',\n",
       " '兑',\n",
       " '兔',\n",
       " '兕',\n",
       " '兖',\n",
       " '党',\n",
       " '兜',\n",
       " '兟',\n",
       " '兢',\n",
       " '入',\n",
       " '全',\n",
       " '八',\n",
       " '公',\n",
       " '六',\n",
       " '兮',\n",
       " '兰',\n",
       " '共',\n",
       " '关',\n",
       " '兴',\n",
       " '兵',\n",
       " '其',\n",
       " '具']"
      ]
     },
     "execution_count": 42,
     "metadata": {},
     "output_type": "execute_result"
    }
   ],
   "source": [
    "vocab[0:500]"
   ]
  },
  {
   "cell_type": "code",
   "execution_count": 43,
   "id": "1253e2ac-b749-4460-8fd5-17fda739ca7a",
   "metadata": {},
   "outputs": [
    {
     "data": {
      "text/plain": [
       "{0: '$', 1: '?', 2: '◇', 3: '、', 4: '。'}"
      ]
     },
     "execution_count": 43,
     "metadata": {},
     "output_type": "execute_result"
    }
   ],
   "source": [
    "i2t = {k:v for k,v in enumerate(vocab)}\n",
    "{k:i2t[k] for k in list(i2t.keys())[0:5]}"
   ]
  },
  {
   "cell_type": "code",
   "execution_count": 44,
   "id": "9a533f1a-354c-433e-9e95-18acd9194e72",
   "metadata": {},
   "outputs": [
    {
     "data": {
      "text/plain": [
       "{'$': 0, '?': 1, '◇': 2, '、': 3, '。': 4}"
      ]
     },
     "execution_count": 44,
     "metadata": {},
     "output_type": "execute_result"
    }
   ],
   "source": [
    "t2i = {v:k for k,v in enumerate(vocab)}\n",
    "{k:t2i[k] for k in list(t2i.keys())[0:5]}"
   ]
  },
  {
   "cell_type": "code",
   "execution_count": 45,
   "id": "43468698-c15a-44f3-8ab8-95f16bc9447a",
   "metadata": {},
   "outputs": [
    {
     "data": {
      "text/plain": [
       "[3897, 1900]"
      ]
     },
     "execution_count": 45,
     "metadata": {},
     "output_type": "execute_result"
    }
   ],
   "source": [
    "def encode(s): return [ t2i[c] for c in s]\n",
    "encode(\"瓶怒\")"
   ]
  },
  {
   "cell_type": "code",
   "execution_count": 46,
   "id": "18997b5e-7b8a-4835-bd68-1d4bc56c648e",
   "metadata": {},
   "outputs": [
    {
     "data": {
      "text/plain": [
       "'?、'"
      ]
     },
     "execution_count": 46,
     "metadata": {},
     "output_type": "execute_result"
    }
   ],
   "source": [
    "def decode(l): return \"\".join([ i2t[i] for i in l])\n",
    "decode([1,3])"
   ]
  },
  {
   "cell_type": "code",
   "execution_count": 47,
   "id": "ed012d06-d88e-426a-87f3-197bf4f9631a",
   "metadata": {},
   "outputs": [
    {
     "data": {
      "text/plain": [
       "7475"
      ]
     },
     "execution_count": 47,
     "metadata": {},
     "output_type": "execute_result"
    }
   ],
   "source": [
    "len(vocab)"
   ]
  },
  {
   "cell_type": "code",
   "execution_count": 48,
   "id": "a8c8e619-a3a9-4ff4-ac35-e9a9fee776e1",
   "metadata": {},
   "outputs": [
    {
     "data": {
      "text/plain": [
       "7475"
      ]
     },
     "execution_count": 48,
     "metadata": {},
     "output_type": "execute_result"
    }
   ],
   "source": [
    "len(t2i.keys())"
   ]
  },
  {
   "cell_type": "code",
   "execution_count": 49,
   "id": "e6281271-4417-4f56-8d0c-1c8bfab2e36d",
   "metadata": {},
   "outputs": [],
   "source": [
    "import pickle\n",
    "meta = { \"t2i\": t2i, \"i2t\": i2t }\n",
    "with open('meta.pkl', 'wb') as f:\n",
    "    pickle.dump(meta,f)"
   ]
  },
  {
   "cell_type": "code",
   "execution_count": 50,
   "id": "a9ca0048-7842-4b0e-b94e-fc63f38b498f",
   "metadata": {},
   "outputs": [
    {
     "name": "stdout",
     "output_type": "stream",
     "text": [
      "\u001b[0m\u001b[01;32mCN_tokenizer.ipynb\u001b[0m*       \u001b[01;32mGPTModel_MLP_v2.ipynb\u001b[0m*    \u001b[01;32mGPTModel_v3_fail.ipynb\u001b[0m*\n",
      "\u001b[01;32mCN_tokenizer_mini.ipynb\u001b[0m*  \u001b[01;32mGPTModel_atten_v1.ipynb\u001b[0m*  \u001b[34;42mPoetry\u001b[0m/\n",
      "\u001b[01;32mGPTModel.ipynb\u001b[0m*           \u001b[01;32mGPTModel_atten_v2.ipynb\u001b[0m*  \u001b[01;32mmeta.pkl\u001b[0m*\n",
      "\u001b[01;32mGPTModel_MLP.ipynb\u001b[0m*       \u001b[01;32mGPTModel_atten_v3.ipynb\u001b[0m*  \u001b[01;32mmodel_v1.pkl\u001b[0m*\n"
     ]
    }
   ],
   "source": [
    "%ls"
   ]
  },
  {
   "cell_type": "code",
   "execution_count": 51,
   "id": "17fc3d1b-44dc-4232-beb4-fd68012f35c4",
   "metadata": {},
   "outputs": [
    {
     "data": {
      "text/plain": [
       "7475"
      ]
     },
     "execution_count": 51,
     "metadata": {},
     "output_type": "execute_result"
    }
   ],
   "source": [
    "with open('meta.pkl','rb') as f:\n",
    "    meta = pickle.load(f)\n",
    "vocab_size = len(meta['t2i'].keys())\n",
    "vocab_size"
   ]
  },
  {
   "cell_type": "code",
   "execution_count": 52,
   "id": "e6d30494-9a20-4bd8-a7da-93287c4e4dcb",
   "metadata": {},
   "outputs": [],
   "source": [
    "vocab = meta['t2i'].keys()"
   ]
  },
  {
   "cell_type": "code",
   "execution_count": 53,
   "id": "473e78be-0e50-40ca-b8a3-572934a05c65",
   "metadata": {},
   "outputs": [
    {
     "data": {
      "text/plain": [
       "7475"
      ]
     },
     "execution_count": 53,
     "metadata": {},
     "output_type": "execute_result"
    }
   ],
   "source": [
    "len(vocab)"
   ]
  },
  {
   "cell_type": "code",
   "execution_count": null,
   "id": "b41574de-1290-4606-a3c4-e4cdaf0f27c4",
   "metadata": {},
   "outputs": [],
   "source": []
  }
 ],
 "metadata": {
  "kernelspec": {
   "display_name": "Python 3 (ipykernel)",
   "language": "python",
   "name": "python3"
  },
  "language_info": {
   "codemirror_mode": {
    "name": "ipython",
    "version": 3
   },
   "file_extension": ".py",
   "mimetype": "text/x-python",
   "name": "python",
   "nbconvert_exporter": "python",
   "pygments_lexer": "ipython3",
   "version": "3.8.10"
  }
 },
 "nbformat": 4,
 "nbformat_minor": 5
}
